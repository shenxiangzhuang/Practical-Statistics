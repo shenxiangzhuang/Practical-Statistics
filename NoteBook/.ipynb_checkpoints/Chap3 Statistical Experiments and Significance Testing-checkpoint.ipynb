{
 "cells": [
  {
   "cell_type": "markdown",
   "metadata": {},
   "source": [
    "### Resampling"
   ]
  },
  {
   "cell_type": "markdown",
   "metadata": {},
   "source": [
    "#### Figure3-3"
   ]
  },
  {
   "cell_type": "code",
   "execution_count": 1,
   "metadata": {
    "ExecuteTime": {
     "end_time": "2019-04-01T15:37:58.464560Z",
     "start_time": "2019-04-01T15:37:57.538Z"
    }
   },
   "outputs": [],
   "source": [
    "library(ggplot2)\n",
    "# set the path\n",
    "setwd(getwd())\n",
    "# load data\n",
    "# 这里的数据和书上做图用的数据有些不同\n",
    "session_times <- read.csv(\"../psds_data/web_page_data.csv\")"
   ]
  },
  {
   "cell_type": "code",
   "execution_count": 4,
   "metadata": {
    "ExecuteTime": {
     "end_time": "2019-04-01T15:39:19.615887Z",
     "start_time": "2019-04-01T15:39:19.365Z"
    }
   },
   "outputs": [
    {
     "data": {},
     "metadata": {},
     "output_type": "display_data"
    },
    {
     "data": {
      "image/png": "[encoded data removed]",
      "text/plain": [
       "plot without title"
      ]
     },
     "metadata": {},
     "output_type": "display_data"
    }
   ],
   "source": [
    "options(repr.plot.width=5, repr.plot.height=4)  # plot size\n",
    "ggplot(session_times, aes(x=Page, y=Time)) + geom_boxplot()"
   ]
  },
  {
   "cell_type": "markdown",
   "metadata": {},
   "source": [
    "#### Figure3-4(Permutation Test)"
   ]
  },
  {
   "cell_type": "code",
   "execution_count": 8,
   "metadata": {
    "ExecuteTime": {
     "end_time": "2019-04-01T15:54:02.629526Z",
     "start_time": "2019-04-01T15:54:02.594Z"
    }
   },
   "outputs": [
    {
     "data": {
      "text/html": [
       "0.356666666666666"
      ],
      "text/latex": [
       "0.356666666666666"
      ],
      "text/markdown": [
       "0.356666666666666"
      ],
      "text/plain": [
       "[1] 0.3566667"
      ]
     },
     "metadata": {},
     "output_type": "display_data"
    }
   ],
   "source": [
    "mean_a <- mean(session_times[session_times['Page']=='Page A', 'Time'])\n",
    "mean_b <- mean(session_times[session_times['Page']=='Page B', 'Time'])\n",
    "mean_b - mean_a"
   ]
  },
  {
   "cell_type": "code",
   "execution_count": 5,
   "metadata": {
    "ExecuteTime": {
     "end_time": "2019-04-01T15:46:01.042839Z",
     "start_time": "2019-04-01T15:46:01.017Z"
    }
   },
   "outputs": [],
   "source": [
    "perm_func <- function(x, n1, n2){\n",
    "    n <- n1 + n2\n",
    "    idx_b <- sample(1:n, n1)\n",
    "    idx_a <- setdiff(1:n, idx_b)\n",
    "    mean_diff <- mean(x[idx_b]) - mean(x[idx_a])\n",
    "    return(mean_diff)\n",
    "}"
   ]
  },
  {
   "cell_type": "markdown",
   "metadata": {},
   "source": [
    "注意这里，巧妙地使用索引与集合的差运算实现了不放回抽样。"
   ]
  },
  {
   "cell_type": "code",
   "execution_count": 7,
   "metadata": {
    "ExecuteTime": {
     "end_time": "2019-04-01T15:50:35.613903Z",
     "start_time": "2019-04-01T15:50:35.340Z"
    }
   },
   "outputs": [
    {
     "data": {
      "image/png": "[encoded data removed]",
      "text/plain": [
       "Plot with title “Histogram of perm_diff”"
      ]
     },
     "metadata": {},
     "output_type": "display_data"
    }
   ],
   "source": [
    "perm_diff <- rep(0, 1000)\n",
    "for(i in 1:1000)\n",
    "    perm_diff[i] = perm_func(session_times[, 'Time'], 21, 15)\n",
    "hist(perm_diff, xlab='Session time difference(in seconds)')\n",
    "abline(v = mean_b - mean_a)"
   ]
  },
  {
   "cell_type": "markdown",
   "metadata": {},
   "source": [
    "#### Figure3-5"
   ]
  },
  {
   "cell_type": "code",
   "execution_count": 12,
   "metadata": {
    "ExecuteTime": {
     "end_time": "2019-04-01T16:02:17.780706Z",
     "start_time": "2019-04-01T16:02:06.249Z"
    }
   },
   "outputs": [
    {
     "data": {
      "image/png": "[encoded data removed]",
      "text/plain": [
       "Plot with title “Histogram of perm_diff”"
      ]
     },
     "metadata": {},
     "output_type": "display_data"
    }
   ],
   "source": [
    "obs_pct_diff <- 100*(200/23739 - 182/22588)\n",
    "conversion <- c(rep(0, 45945), rep(1, 382))\n",
    "perm_diff <- rep(0, 1000)\n",
    "for(i in 1:1000)\n",
    "    perm_diff[i] = 100*perm_func(conversion, 23739, 22588)\n",
    "hist(perm_diff, xlab = 'Conversion rate(percent)',\n",
    "                ylab = 'Frequence')\n",
    "abline(v = obs_pct_diff)"
   ]
  },
  {
   "cell_type": "code",
   "execution_count": 13,
   "metadata": {
    "ExecuteTime": {
     "end_time": "2019-04-01T16:02:20.986897Z",
     "start_time": "2019-04-01T16:02:20.956Z"
    }
   },
   "outputs": [
    {
     "data": {
      "text/html": [
       "0.313"
      ],
      "text/latex": [
       "0.313"
      ],
      "text/markdown": [
       "0.313"
      ],
      "text/plain": [
       "[1] 0.313"
      ]
     },
     "metadata": {},
     "output_type": "display_data"
    }
   ],
   "source": [
    "# P value\n",
    "mean(perm_diff > obs_pct_diff)"
   ]
  },
  {
   "cell_type": "markdown",
   "metadata": {},
   "source": [
    "注意，由于抽样的随机性，前面对P值的计算会有所不同"
   ]
  },
  {
   "cell_type": "code",
   "execution_count": 14,
   "metadata": {
    "ExecuteTime": {
     "end_time": "2019-04-01T16:03:53.488931Z",
     "start_time": "2019-04-01T16:03:53.437Z"
    }
   },
   "outputs": [
    {
     "data": {
      "text/plain": [
       "\n",
       "\t2-sample test for equality of proportions with continuity correction\n",
       "\n",
       "data:  c(200, 182) out of c(23739, 22588)\n",
       "X-squared = 0.14893, df = 1, p-value = 0.3498\n",
       "alternative hypothesis: greater\n",
       "95 percent confidence interval:\n",
       " -0.001057439  1.000000000\n",
       "sample estimates:\n",
       "     prop 1      prop 2 \n",
       "0.008424955 0.008057376 \n"
      ]
     },
     "metadata": {},
     "output_type": "display_data"
    }
   ],
   "source": [
    "# 内置的假设检验\n",
    "prop.test(x=c(200, 182), n=c(23739, 22588), alternative = \"greater\")"
   ]
  },
  {
   "cell_type": "markdown",
   "metadata": {},
   "source": [
    "#### T Test"
   ]
  },
  {
   "cell_type": "code",
   "execution_count": 15,
   "metadata": {
    "ExecuteTime": {
     "end_time": "2019-04-01T16:06:20.972203Z",
     "start_time": "2019-04-01T16:06:20.930Z"
    }
   },
   "outputs": [
    {
     "data": {
      "text/plain": [
       "\n",
       "\tWelch Two Sample t-test\n",
       "\n",
       "data:  Time by Page\n",
       "t = -1.0983, df = 27.693, p-value = 0.1408\n",
       "alternative hypothesis: true difference in means is less than 0\n",
       "95 percent confidence interval:\n",
       "      -Inf 0.1959674\n",
       "sample estimates:\n",
       "mean in group Page A mean in group Page B \n",
       "            1.263333             1.620000 \n"
      ]
     },
     "metadata": {},
     "output_type": "display_data"
    }
   ],
   "source": [
    "t.test(Time~Page, data=session_times, alternative = 'less')"
   ]
  },
  {
   "cell_type": "markdown",
   "metadata": {},
   "source": [
    "#### ANOVA"
   ]
  },
  {
   "cell_type": "code",
   "execution_count": 21,
   "metadata": {
    "ExecuteTime": {
     "end_time": "2019-04-01T16:12:51.149090Z",
     "start_time": "2019-04-01T16:12:51.040Z"
    }
   },
   "outputs": [
    {
     "data": {
      "text/html": [
       "<table>\n",
       "<thead><tr><th scope=col>Page</th><th scope=col>Time</th></tr></thead>\n",
       "<tbody>\n",
       "\t<tr><td>Page 1</td><td>164   </td></tr>\n",
       "\t<tr><td>Page 2</td><td>178   </td></tr>\n",
       "\t<tr><td>Page 3</td><td>175   </td></tr>\n",
       "\t<tr><td>Page 4</td><td>155   </td></tr>\n",
       "\t<tr><td>Page 1</td><td>172   </td></tr>\n",
       "\t<tr><td>Page 2</td><td>191   </td></tr>\n",
       "</tbody>\n",
       "</table>\n"
      ],
      "text/latex": [
       "\\begin{tabular}{r|ll}\n",
       " Page & Time\\\\\n",
       "\\hline\n",
       "\t Page 1 & 164   \\\\\n",
       "\t Page 2 & 178   \\\\\n",
       "\t Page 3 & 175   \\\\\n",
       "\t Page 4 & 155   \\\\\n",
       "\t Page 1 & 172   \\\\\n",
       "\t Page 2 & 191   \\\\\n",
       "\\end{tabular}\n"
      ],
      "text/markdown": [
       "\n",
       "Page | Time | \n",
       "|---|---|---|---|---|---|\n",
       "| Page 1 | 164    | \n",
       "| Page 2 | 178    | \n",
       "| Page 3 | 175    | \n",
       "| Page 4 | 155    | \n",
       "| Page 1 | 172    | \n",
       "| Page 2 | 191    | \n",
       "\n",
       "\n"
      ],
      "text/plain": [
       "  Page   Time\n",
       "1 Page 1 164 \n",
       "2 Page 2 178 \n",
       "3 Page 3 175 \n",
       "4 Page 4 155 \n",
       "5 Page 1 172 \n",
       "6 Page 2 191 "
      ]
     },
     "metadata": {},
     "output_type": "display_data"
    }
   ],
   "source": [
    "library(lmPerm)\n",
    "four_sessions <- read.csv(\"../psds_data/four_sessions.csv\")\n",
    "head(four_sessions)"
   ]
  },
  {
   "cell_type": "code",
   "execution_count": 19,
   "metadata": {
    "ExecuteTime": {
     "end_time": "2019-04-01T16:11:07.153605Z",
     "start_time": "2019-04-01T16:11:07.104Z"
    }
   },
   "outputs": [
    {
     "name": "stdout",
     "output_type": "stream",
     "text": [
      "[1] \"Settings:  unique SS \"\n"
     ]
    },
    {
     "data": {
      "text/plain": [
       "Component 1 :\n",
       "            Df R Sum Sq R Mean Sq Iter Pr(Prob)  \n",
       "Page         3    831.4    277.13 4477  0.09002 .\n",
       "Residuals   16   1618.4    101.15                \n",
       "---\n",
       "Signif. codes:  0 ‘***’ 0.001 ‘**’ 0.01 ‘*’ 0.05 ‘.’ 0.1 ‘ ’ 1\n"
      ]
     },
     "metadata": {},
     "output_type": "display_data"
    }
   ],
   "source": [
    "summary(aovp(Time~Page, data=four_sessions))"
   ]
  },
  {
   "cell_type": "code",
   "execution_count": 20,
   "metadata": {
    "ExecuteTime": {
     "end_time": "2019-04-01T16:12:06.467034Z",
     "start_time": "2019-04-01T16:12:06.432Z"
    }
   },
   "outputs": [
    {
     "data": {
      "text/plain": [
       "            Df Sum Sq Mean Sq F value Pr(>F)  \n",
       "Page         3  831.4   277.1    2.74 0.0776 .\n",
       "Residuals   16 1618.4   101.2                 \n",
       "---\n",
       "Signif. codes:  0 ‘***’ 0.001 ‘**’ 0.01 ‘*’ 0.05 ‘.’ 0.1 ‘ ’ 1"
      ]
     },
     "metadata": {},
     "output_type": "display_data"
    }
   ],
   "source": [
    "# R built-in anova\n",
    "summary(aov(Time~Page, data=four_sessions))"
   ]
  },
  {
   "cell_type": "markdown",
   "metadata": {},
   "source": [
    "#### Chi-Square Test"
   ]
  },
  {
   "cell_type": "code",
   "execution_count": 30,
   "metadata": {
    "ExecuteTime": {
     "end_time": "2019-04-01T16:16:24.574240Z",
     "start_time": "2019-04-01T16:16:24.531Z"
    }
   },
   "outputs": [
    {
     "data": {
      "text/html": [
       "<table>\n",
       "<thead><tr><th scope=col>Headline</th><th scope=col>Click</th><th scope=col>Rate</th></tr></thead>\n",
       "<tbody>\n",
       "\t<tr><td>Headline A</td><td>Click     </td><td> 14       </td></tr>\n",
       "\t<tr><td>Headline A</td><td>No-click  </td><td>986       </td></tr>\n",
       "\t<tr><td>Headline B</td><td>Click     </td><td>  8       </td></tr>\n",
       "\t<tr><td>Headline B</td><td>No-click  </td><td>992       </td></tr>\n",
       "\t<tr><td>Headline C</td><td>Click     </td><td> 12       </td></tr>\n",
       "\t<tr><td>Headline C</td><td>No-click  </td><td>988       </td></tr>\n",
       "</tbody>\n",
       "</table>\n"
      ],
      "text/latex": [
       "\\begin{tabular}{r|lll}\n",
       " Headline & Click & Rate\\\\\n",
       "\\hline\n",
       "\t Headline A & Click      &  14       \\\\\n",
       "\t Headline A & No-click   & 986       \\\\\n",
       "\t Headline B & Click      &   8       \\\\\n",
       "\t Headline B & No-click   & 992       \\\\\n",
       "\t Headline C & Click      &  12       \\\\\n",
       "\t Headline C & No-click   & 988       \\\\\n",
       "\\end{tabular}\n"
      ],
      "text/markdown": [
       "\n",
       "Headline | Click | Rate | \n",
       "|---|---|---|---|---|---|\n",
       "| Headline A | Click      |  14        | \n",
       "| Headline A | No-click   | 986        | \n",
       "| Headline B | Click      |   8        | \n",
       "| Headline B | No-click   | 992        | \n",
       "| Headline C | Click      |  12        | \n",
       "| Headline C | No-click   | 988        | \n",
       "\n",
       "\n"
      ],
      "text/plain": [
       "  Headline   Click    Rate\n",
       "1 Headline A Click     14 \n",
       "2 Headline A No-click 986 \n",
       "3 Headline B Click      8 \n",
       "4 Headline B No-click 992 \n",
       "5 Headline C Click     12 \n",
       "6 Headline C No-click 988 "
      ]
     },
     "metadata": {},
     "output_type": "display_data"
    }
   ],
   "source": [
    "click_rate <- read.csv('../psds_data/click_rates.csv')\n",
    "head(click_rate)"
   ]
  },
  {
   "cell_type": "code",
   "execution_count": 31,
   "metadata": {
    "ExecuteTime": {
     "end_time": "2019-04-01T16:16:27.009297Z",
     "start_time": "2019-04-01T16:16:26.976Z"
    }
   },
   "outputs": [
    {
     "name": "stdout",
     "output_type": "stream",
     "text": [
      "           Click No-click\n",
      "Headline A    14      986\n",
      "Headline B     8      992\n",
      "Headline C    12      988\n"
     ]
    }
   ],
   "source": [
    "clicks <- matrix(click_rate$Rate, nrow=3, ncol=2, byrow=TRUE)\n",
    "dimnames(clicks) <- list(unique(click_rate$Headline), unique(click_rate$Click))\n",
    "print(clicks)"
   ]
  },
  {
   "cell_type": "code",
   "execution_count": 33,
   "metadata": {
    "ExecuteTime": {
     "end_time": "2019-04-01T16:17:14.389442Z",
     "start_time": "2019-04-01T16:17:14.346Z"
    }
   },
   "outputs": [
    {
     "data": {
      "text/plain": [
       "\n",
       "\tPearson's Chi-squared test with simulated p-value (based on 2000\n",
       "\treplicates)\n",
       "\n",
       "data:  clicks\n",
       "X-squared = 1.6659, df = NA, p-value = 0.4893\n"
      ]
     },
     "metadata": {},
     "output_type": "display_data"
    }
   ],
   "source": [
    "chisq.test(clicks, simulate.p.value = TRUE)"
   ]
  },
  {
   "cell_type": "code",
   "execution_count": 34,
   "metadata": {
    "ExecuteTime": {
     "end_time": "2019-04-01T16:17:24.176148Z",
     "start_time": "2019-04-01T16:17:24.147Z"
    }
   },
   "outputs": [
    {
     "data": {
      "text/plain": [
       "\n",
       "\tPearson's Chi-squared test\n",
       "\n",
       "data:  clicks\n",
       "X-squared = 1.6659, df = 2, p-value = 0.4348\n"
      ]
     },
     "metadata": {},
     "output_type": "display_data"
    }
   ],
   "source": [
    "chisq.test(clicks, simulate.p.value = FALSE)"
   ]
  },
  {
   "cell_type": "markdown",
   "metadata": {},
   "source": [
    "#### Fisher's Exact Test"
   ]
  },
  {
   "cell_type": "code",
   "execution_count": 35,
   "metadata": {
    "ExecuteTime": {
     "end_time": "2019-04-01T16:18:00.723617Z",
     "start_time": "2019-04-01T16:18:00.697Z"
    }
   },
   "outputs": [
    {
     "data": {
      "text/plain": [
       "\n",
       "\tFisher's Exact Test for Count Data\n",
       "\n",
       "data:  clicks\n",
       "p-value = 0.4824\n",
       "alternative hypothesis: two.sided\n"
      ]
     },
     "metadata": {},
     "output_type": "display_data"
    }
   ],
   "source": [
    "fisher.test(clicks)"
   ]
  },
  {
   "cell_type": "code",
   "execution_count": null,
   "metadata": {},
   "outputs": [],
   "source": []
  }
 ],
 "metadata": {
  "kernelspec": {
   "display_name": "R 3.4",
   "language": "R",
   "name": "ir34"
  },
  "language_info": {
   "codemirror_mode": "r",
   "file_extension": ".r",
   "mimetype": "text/x-r-source",
   "name": "R",
   "pygments_lexer": "r",
   "version": "3.4.4"
  },
  "toc": {
   "nav_menu": {},
   "number_sections": false,
   "sideBar": true,
   "skip_h1_title": false,
   "title_cell": "Table of Contents",
   "title_sidebar": "Contents",
   "toc_cell": false,
   "toc_position": {
    "height": "calc(100% - 180px)",
    "left": "10px",
    "top": "150px",
    "width": "273.2px"
   },
   "toc_section_display": true,
   "toc_window_display": true
  }
 },
 "nbformat": 4,
 "nbformat_minor": 2
}
